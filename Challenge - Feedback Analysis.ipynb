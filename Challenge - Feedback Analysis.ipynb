{
 "cells": [
  {
   "cell_type": "markdown",
   "metadata": {},
   "source": [
    "## Challenge: Feedback Analysis"
   ]
  },
  {
   "cell_type": "code",
   "execution_count": 1,
   "metadata": {
    "collapsed": true
   },
   "outputs": [],
   "source": [
    "%matplotlib inline\n",
    "import numpy as np\n",
    "import pandas as pd\n",
    "import scipy\n",
    "import sklearn\n",
    "import matplotlib.pyplot as plt\n",
    "import seaborn as sns\n",
    "import re"
   ]
  },
  {
   "cell_type": "code",
   "execution_count": 2,
   "metadata": {
    "collapsed": false
   },
   "outputs": [
    {
     "name": "stdout",
     "output_type": "stream",
     "text": [
      "                                                review  sentiment\n",
      "0    A very, very, very slow-moving, aimless movie ...          0\n",
      "1    Not sure who was more lost - the flat characte...          0\n",
      "2    Attempting artiness with black & white and cle...          0\n",
      "3         Very little music or anything to speak of.            0\n",
      "4    The best scene in the movie was when Gerardo i...          1\n",
      "5    The rest of the movie lacks art, charm, meanin...          0\n",
      "6                                  Wasted two hours.            0\n",
      "7    Saw the movie today and thought it was a good ...          1\n",
      "8                                 A bit predictable.            0\n",
      "9    Loved the casting of Jimmy Buffet as the scien...          1\n",
      "10                And those baby owls were adorable.            1\n",
      "11   The movie showed a lot of Florida at it's best...          1\n",
      "12   The Songs Were The Best And The Muppets Were S...          1\n",
      "13                                   It Was So Cool.            1\n",
      "14   This is a very \"right on case\" movie that deli...          1\n",
      "15   It had some average acting from the main perso...          0\n",
      "16   This review is long overdue, since I consider ...          1\n",
      "17   I'll put this gem up against any movie in term...          1\n",
      "18   It's practically perfect in all of them  a tr...          1\n",
      "19    The structure of this film is easily the most...          0\n",
      "20   This if the first movie I've given a 10 to in ...          1\n",
      "21   If there was ever a movie that needed word-of-...          1\n",
      "22   Overall, the film is interesting and thought-p...          1\n",
      "23   Plus, it was well-paced and suited its relativ...          1\n",
      "24                             Give this one a look.            1\n",
      "25                                    I gave it a 10            1\n",
      "26   The Wind and the Lion is well written and supe...          1\n",
      "27                             It is a true classic.            1\n",
      "28   It actually turned out to be pretty decent as ...          1\n",
      "29                    Definitely worth checking out.            1\n",
      "..                                                 ...        ...\n",
      "718  Enough can not be said of the remarkable anima...          1\n",
      "719  The art style has the appearance of crayon/pen...          1\n",
      "720  If you act in such a film, you should be glad ...          0\n",
      "721  This one wants to surf on the small wave of sp...          0\n",
      "722  If you haven't choked in your own vomit by the...          0\n",
      "723  Still, it makes up for all of this with a supe...          1\n",
      "724  Just consider the excellent story, solid actin...          1\n",
      "725  Instead, we got a bore fest about a whiny, spo...          0\n",
      "726  Then I watched it again two Sundays ago (March...          1\n",
      "727       It is a very well acted and done TV Movie.            1\n",
      "728  Judith Light is one of my favorite actresses a...          1\n",
      "729                I keep watching it over and over.            1\n",
      "730                 It's a sad movie, but very good.            1\n",
      "731  If you have not seen this movie, I definitely ...          1\n",
      "732           She is as lovely as usual, this cutie!            1\n",
      "733  Still it's quite interesting and entertaining ...          1\n",
      "734                    ;) Recommend with confidence!            1\n",
      "735  This movie is well-balanced with comedy and dr...          1\n",
      "736  It was a riot to see Hugo Weaving play a sex-o...          1\n",
      "737  :) Anyway, the plot flowed smoothly and the ma...          1\n",
      "738  The opening sequence of this gem is a classic,...          1\n",
      "739             Fans of the genre will be in heaven.            1\n",
      "740                Lange had become a great actress.            1\n",
      "741                It looked like a wonderful story.            1\n",
      "742            I never walked out of a movie faster.            0\n",
      "743  I just got bored watching Jessice Lange take h...          0\n",
      "744  Unfortunately, any virtue in this film's produ...          0\n",
      "745                   In a word, it is embarrassing.            0\n",
      "746                               Exceptionally bad!            0\n",
      "747  All in all its an insult to one's intelligence...          0\n",
      "\n",
      "[748 rows x 2 columns]\n"
     ]
    }
   ],
   "source": [
    "sentiment_raw = pd.read_csv('imdb_labelled.txt', delimiter= '\\t', header=None)\n",
    "sentiment_raw.columns = ('review', 'sentiment') \n",
    "print(sentiment_raw)"
   ]
  },
  {
   "cell_type": "code",
   "execution_count": 3,
   "metadata": {
    "collapsed": false
   },
   "outputs": [],
   "source": [
    "negative_words = pd.read_csv('neg_sent.txt', delimiter= '\\t', header=None)\n",
    "# print(negative_words)\n",
    "\n",
    "# re.findall(r'\\w+(?:-\\w+)+', negative_words)\n",
    "# negative_words = negative_words.replace('-', ' ', inplace=False, regex=True)\n",
    "\n",
    "keywords = ['flat', 'lacks', 'vomit', 'bore', 'boring', 'horrible', 'predictable', 'unfortunately',\n",
    "            'embarrassing', 'stupid', 'lack', 'lacked', 'bland',\n",
    "            'insult', 'slow-moving', 'aimless', 'bad']\n",
    "\n",
    "# for words in negative_words:\n",
    "#     sentiment_raw[str(words)] = sentiment_raw.review.str.contains(\n",
    "#         str(words),\n",
    "#         case=False\n",
    "#     )\n",
    "    \n",
    "for key in keywords:\n",
    "    sentiment_raw[str(key)] = sentiment_raw.review.str.contains(\n",
    "        str(key),\n",
    "        case=False\n",
    "    )\n",
    "# print(sentiment_raw)\n",
    "# print(negative_words)"
   ]
  },
  {
   "cell_type": "code",
   "execution_count": 4,
   "metadata": {
    "collapsed": true
   },
   "outputs": [],
   "source": [
    "sentiment_raw['negative'] = (sentiment_raw['sentiment'] == 0)\n",
    "# Note that if you run this cell a second time everything will become false.\n",
    "# So... Don't."
   ]
  },
  {
   "cell_type": "code",
   "execution_count": 5,
   "metadata": {
    "collapsed": false
   },
   "outputs": [
    {
     "name": "stdout",
     "output_type": "stream",
     "text": [
      "0       True\n",
      "1       True\n",
      "2       True\n",
      "3       True\n",
      "4      False\n",
      "5       True\n",
      "6       True\n",
      "7      False\n",
      "8       True\n",
      "9      False\n",
      "10     False\n",
      "11     False\n",
      "12     False\n",
      "13     False\n",
      "14     False\n",
      "15      True\n",
      "16     False\n",
      "17     False\n",
      "18     False\n",
      "19      True\n",
      "20     False\n",
      "21     False\n",
      "22     False\n",
      "23     False\n",
      "24     False\n",
      "25     False\n",
      "26     False\n",
      "27     False\n",
      "28     False\n",
      "29     False\n",
      "       ...  \n",
      "718    False\n",
      "719    False\n",
      "720     True\n",
      "721     True\n",
      "722     True\n",
      "723    False\n",
      "724    False\n",
      "725     True\n",
      "726    False\n",
      "727    False\n",
      "728    False\n",
      "729    False\n",
      "730    False\n",
      "731    False\n",
      "732    False\n",
      "733    False\n",
      "734    False\n",
      "735    False\n",
      "736    False\n",
      "737    False\n",
      "738    False\n",
      "739    False\n",
      "740    False\n",
      "741    False\n",
      "742     True\n",
      "743     True\n",
      "744     True\n",
      "745     True\n",
      "746     True\n",
      "747     True\n",
      "Name: negative, dtype: bool\n"
     ]
    }
   ],
   "source": [
    "print(sentiment_raw['negative'])"
   ]
  },
  {
   "cell_type": "code",
   "execution_count": 6,
   "metadata": {
    "collapsed": false
   },
   "outputs": [
    {
     "data": {
      "text/plain": [
       "<matplotlib.axes._subplots.AxesSubplot at 0x10837a630>"
      ]
     },
     "execution_count": 6,
     "metadata": {},
     "output_type": "execute_result"
    },
    {
     "data": {
      "image/png": "[encoded data removed]",
      "text/plain": [
       "<matplotlib.figure.Figure at 0x112572780>"
      ]
     },
     "metadata": {},
     "output_type": "display_data"
    }
   ],
   "source": [
    "sns.heatmap(sentiment_raw.corr())"
   ]
  },
  {
   "cell_type": "code",
   "execution_count": 7,
   "metadata": {
    "collapsed": false
   },
   "outputs": [],
   "source": [
    "data = sentiment_raw[keywords]\n",
    "target = sentiment_raw['negative']"
   ]
  },
  {
   "cell_type": "code",
   "execution_count": 8,
   "metadata": {
    "collapsed": false
   },
   "outputs": [
    {
     "name": "stdout",
     "output_type": "stream",
     "text": [
      "Number of mislabeled points out of a total 748 points : 277\n",
      "Your accuracy is 62.96791443850267%\n"
     ]
    }
   ],
   "source": [
    "# Our data is binary / boolean, so we're importing the Bernoulli classifier.\n",
    "from sklearn.naive_bayes import BernoulliNB\n",
    "\n",
    "# Instantiate our model and store it in a new variable.\n",
    "bnb = BernoulliNB()\n",
    "\n",
    "# Fit our model to the data.\n",
    "bnb.fit(data, target)\n",
    "\n",
    "# Classify, storing the result in a new variable.\n",
    "y_pred = bnb.predict(data)\n",
    "\n",
    "# Display our results.\n",
    "print(\"Number of mislabeled points out of a total {} points : {}\".format(\n",
    "    data.shape[0],\n",
    "    (target != y_pred).sum()\n",
    "))\n",
    "\n",
    "crct_labled = data.shape[0] - (target != y_pred).sum()\n",
    "accuracy = (crct_labled / data.shape[0]) *  100\n",
    "print(\"Your accuracy is {}%\".format(accuracy))"
   ]
  }
 ],
 "metadata": {
  "kernelspec": {
   "display_name": "Python 3",
   "language": "python",
   "name": "python3"
  },
  "language_info": {
   "codemirror_mode": {
    "name": "ipython",
    "version": 3
   },
   "file_extension": ".py",
   "mimetype": "text/x-python",
   "name": "python",
   "nbconvert_exporter": "python",
   "pygments_lexer": "ipython3",
   "version": "3.6.0"
  }
 },
 "nbformat": 4,
 "nbformat_minor": 2
}
