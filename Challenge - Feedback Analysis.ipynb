{
 "cells": [
  {
   "cell_type": "markdown",
   "metadata": {},
   "source": [
    "## Challenge: Feedback Analysis"
   ]
  },
  {
   "cell_type": "code",
   "execution_count": 1,
   "metadata": {
    "collapsed": true
   },
   "outputs": [],
   "source": [
    "%matplotlib inline\n",
    "import numpy as np\n",
    "import pandas as pd\n",
    "import scipy\n",
    "import sklearn\n",
    "import matplotlib.pyplot as plt\n",
    "import seaborn as sns\n",
    "import re"
   ]
  },
  {
   "cell_type": "code",
   "execution_count": 2,
   "metadata": {
    "collapsed": false
   },
   "outputs": [],
   "source": [
    "sentiment_raw = pd.read_csv('imdb_labelled.txt', delimiter= '\\t', header=None)\n",
    "sentiment_raw.columns = ('review', 'sentiment') \n",
    "# print(sentiment_raw)"
   ]
  },
  {
   "cell_type": "code",
   "execution_count": 3,
   "metadata": {
    "collapsed": false
   },
   "outputs": [
    {
     "name": "stdout",
     "output_type": "stream",
     "text": [
      "                                                review  sentiment   flat  \\\n",
      "0    A very, very, very slow-moving, aimless movie ...          0  False   \n",
      "1    Not sure who was more lost - the flat characte...          0   True   \n",
      "2    Attempting artiness with black & white and cle...          0  False   \n",
      "3         Very little music or anything to speak of.            0  False   \n",
      "4    The best scene in the movie was when Gerardo i...          1  False   \n",
      "5    The rest of the movie lacks art, charm, meanin...          0  False   \n",
      "6                                  Wasted two hours.            0  False   \n",
      "7    Saw the movie today and thought it was a good ...          1  False   \n",
      "8                                 A bit predictable.            0  False   \n",
      "9    Loved the casting of Jimmy Buffet as the scien...          1  False   \n",
      "10                And those baby owls were adorable.            1  False   \n",
      "11   The movie showed a lot of Florida at it's best...          1  False   \n",
      "12   The Songs Were The Best And The Muppets Were S...          1  False   \n",
      "13                                   It Was So Cool.            1  False   \n",
      "14   This is a very \"right on case\" movie that deli...          1  False   \n",
      "15   It had some average acting from the main perso...          0  False   \n",
      "16   This review is long overdue, since I consider ...          1  False   \n",
      "17   I'll put this gem up against any movie in term...          1  False   \n",
      "18   It's practically perfect in all of them  a tr...          1  False   \n",
      "19    The structure of this film is easily the most...          0  False   \n",
      "20   This if the first movie I've given a 10 to in ...          1  False   \n",
      "21   If there was ever a movie that needed word-of-...          1  False   \n",
      "22   Overall, the film is interesting and thought-p...          1  False   \n",
      "23   Plus, it was well-paced and suited its relativ...          1  False   \n",
      "24                             Give this one a look.            1  False   \n",
      "25                                    I gave it a 10            1  False   \n",
      "26   The Wind and the Lion is well written and supe...          1  False   \n",
      "27                             It is a true classic.            1  False   \n",
      "28   It actually turned out to be pretty decent as ...          1  False   \n",
      "29                    Definitely worth checking out.            1  False   \n",
      "..                                                 ...        ...    ...   \n",
      "718  Enough can not be said of the remarkable anima...          1  False   \n",
      "719  The art style has the appearance of crayon/pen...          1  False   \n",
      "720  If you act in such a film, you should be glad ...          0  False   \n",
      "721  This one wants to surf on the small wave of sp...          0  False   \n",
      "722  If you haven't choked in your own vomit by the...          0  False   \n",
      "723  Still, it makes up for all of this with a supe...          1  False   \n",
      "724  Just consider the excellent story, solid actin...          1  False   \n",
      "725  Instead, we got a bore fest about a whiny, spo...          0  False   \n",
      "726  Then I watched it again two Sundays ago (March...          1  False   \n",
      "727       It is a very well acted and done TV Movie.            1  False   \n",
      "728  Judith Light is one of my favorite actresses a...          1  False   \n",
      "729                I keep watching it over and over.            1  False   \n",
      "730                 It's a sad movie, but very good.            1  False   \n",
      "731  If you have not seen this movie, I definitely ...          1  False   \n",
      "732           She is as lovely as usual, this cutie!            1  False   \n",
      "733  Still it's quite interesting and entertaining ...          1  False   \n",
      "734                    ;) Recommend with confidence!            1  False   \n",
      "735  This movie is well-balanced with comedy and dr...          1  False   \n",
      "736  It was a riot to see Hugo Weaving play a sex-o...          1  False   \n",
      "737  :) Anyway, the plot flowed smoothly and the ma...          1  False   \n",
      "738  The opening sequence of this gem is a classic,...          1  False   \n",
      "739             Fans of the genre will be in heaven.            1  False   \n",
      "740                Lange had become a great actress.            1  False   \n",
      "741                It looked like a wonderful story.            1  False   \n",
      "742            I never walked out of a movie faster.            0  False   \n",
      "743  I just got bored watching Jessice Lange take h...          0  False   \n",
      "744  Unfortunately, any virtue in this film's produ...          0  False   \n",
      "745                   In a word, it is embarrassing.            0  False   \n",
      "746                               Exceptionally bad!            0  False   \n",
      "747  All in all its an insult to one's intelligence...          0  False   \n",
      "\n",
      "     lacks  vomit   bore boring horrible predictable unfortunately  \\\n",
      "0    False  False  False  False    False       False         False   \n",
      "1    False  False  False  False    False       False         False   \n",
      "2    False  False  False  False    False       False         False   \n",
      "3    False  False  False  False    False       False         False   \n",
      "4    False  False  False  False    False       False         False   \n",
      "5     True  False  False  False    False       False         False   \n",
      "6    False  False  False  False    False       False         False   \n",
      "7    False  False  False  False    False       False         False   \n",
      "8    False  False  False  False    False        True         False   \n",
      "9    False  False  False  False    False       False         False   \n",
      "10   False  False  False  False    False       False         False   \n",
      "11   False  False  False  False    False       False         False   \n",
      "12   False  False  False  False    False       False         False   \n",
      "13   False  False  False  False    False       False         False   \n",
      "14   False  False  False  False    False       False         False   \n",
      "15   False  False  False  False    False       False         False   \n",
      "16   False  False  False  False    False       False         False   \n",
      "17   False  False  False  False    False       False         False   \n",
      "18   False  False  False  False    False       False         False   \n",
      "19   False  False  False  False    False        True         False   \n",
      "20   False  False  False  False    False       False         False   \n",
      "21   False  False  False  False    False       False         False   \n",
      "22   False  False  False  False    False       False         False   \n",
      "23   False  False  False  False    False       False         False   \n",
      "24   False  False  False  False    False       False         False   \n",
      "25   False  False  False  False    False       False         False   \n",
      "26   False  False  False  False    False       False         False   \n",
      "27   False  False  False  False    False       False         False   \n",
      "28   False  False  False  False    False       False         False   \n",
      "29   False  False  False  False    False       False         False   \n",
      "..     ...    ...    ...    ...      ...         ...           ...   \n",
      "718  False  False  False  False    False       False         False   \n",
      "719  False  False  False  False    False       False         False   \n",
      "720  False  False  False  False    False       False         False   \n",
      "721  False  False  False  False    False       False         False   \n",
      "722  False   True   True  False    False       False         False   \n",
      "723  False  False  False  False    False       False         False   \n",
      "724  False  False  False  False    False       False         False   \n",
      "725  False  False   True  False    False       False         False   \n",
      "726  False  False  False  False    False       False         False   \n",
      "727  False  False  False  False    False       False         False   \n",
      "728  False  False  False  False    False       False         False   \n",
      "729  False  False  False  False    False       False         False   \n",
      "730  False  False  False  False    False       False         False   \n",
      "731  False  False  False  False    False       False         False   \n",
      "732  False  False  False  False    False       False         False   \n",
      "733  False  False  False  False    False       False         False   \n",
      "734  False  False  False  False    False       False         False   \n",
      "735  False  False  False  False    False       False         False   \n",
      "736  False  False  False  False    False       False         False   \n",
      "737  False  False  False  False    False       False         False   \n",
      "738  False  False  False  False    False       False         False   \n",
      "739  False  False  False  False    False       False         False   \n",
      "740  False  False  False  False    False       False         False   \n",
      "741  False  False  False  False    False       False         False   \n",
      "742  False  False  False  False    False       False         False   \n",
      "743  False  False   True  False    False       False         False   \n",
      "744  False  False  False  False    False       False          True   \n",
      "745  False  False  False  False    False       False         False   \n",
      "746  False  False  False  False    False       False         False   \n",
      "747  False  False  False  False    False       False         False   \n",
      "\n",
      "    embarrassing stupid   lack lacked  bland insult slow-moving aimless    bad  \n",
      "0          False  False  False  False  False  False        True    True  False  \n",
      "1          False  False  False  False  False  False       False   False  False  \n",
      "2          False  False   True  False  False  False       False   False  False  \n",
      "3          False  False  False  False  False  False       False   False  False  \n",
      "4          False  False  False  False  False  False       False   False  False  \n",
      "5          False  False   True  False  False  False       False   False  False  \n",
      "6          False  False  False  False  False  False       False   False  False  \n",
      "7          False  False  False  False  False  False       False   False  False  \n",
      "8          False  False  False  False  False  False       False   False  False  \n",
      "9          False  False  False  False  False  False       False   False  False  \n",
      "10         False  False  False  False  False  False       False   False  False  \n",
      "11         False  False  False  False  False  False       False   False  False  \n",
      "12         False  False  False  False  False  False       False   False  False  \n",
      "13         False  False  False  False  False  False       False   False  False  \n",
      "14         False  False  False  False  False  False       False   False  False  \n",
      "15         False  False  False  False  False  False       False   False  False  \n",
      "16         False  False  False  False  False  False       False   False  False  \n",
      "17         False  False  False  False  False  False       False   False  False  \n",
      "18         False  False  False  False  False  False       False   False  False  \n",
      "19         False  False  False  False  False  False       False   False   True  \n",
      "20         False  False  False  False  False  False       False   False  False  \n",
      "21         False  False  False  False  False  False       False   False  False  \n",
      "22         False  False  False  False  False  False       False   False  False  \n",
      "23         False  False  False  False  False  False       False   False  False  \n",
      "24         False  False  False  False  False  False       False   False  False  \n",
      "25         False  False  False  False  False  False       False   False  False  \n",
      "26         False  False  False  False  False  False       False   False  False  \n",
      "27         False  False  False  False  False  False       False   False  False  \n",
      "28         False  False  False  False  False  False       False   False  False  \n",
      "29         False  False  False  False  False  False       False   False  False  \n",
      "..           ...    ...    ...    ...    ...    ...         ...     ...    ...  \n",
      "718        False  False  False  False  False  False       False   False  False  \n",
      "719        False  False  False  False  False  False       False   False  False  \n",
      "720        False  False  False  False  False  False       False   False  False  \n",
      "721        False  False  False  False  False  False       False   False  False  \n",
      "722        False  False  False  False  False  False       False   False  False  \n",
      "723        False  False  False  False  False  False       False   False  False  \n",
      "724        False  False  False  False  False  False       False   False  False  \n",
      "725        False  False  False  False  False  False       False   False  False  \n",
      "726        False  False  False  False  False  False       False   False  False  \n",
      "727        False  False  False  False  False  False       False   False  False  \n",
      "728        False  False  False  False  False  False       False   False  False  \n",
      "729        False  False  False  False  False  False       False   False  False  \n",
      "730        False  False  False  False  False  False       False   False  False  \n",
      "731        False  False  False  False  False  False       False   False  False  \n",
      "732        False  False  False  False  False  False       False   False  False  \n",
      "733        False  False  False  False  False  False       False   False  False  \n",
      "734        False  False  False  False  False  False       False   False  False  \n",
      "735        False  False  False  False  False  False       False   False  False  \n",
      "736        False  False  False  False  False  False       False   False  False  \n",
      "737        False  False  False  False  False  False       False   False  False  \n",
      "738        False  False  False  False  False  False       False   False  False  \n",
      "739        False  False  False  False  False  False       False   False  False  \n",
      "740        False  False  False  False  False  False       False   False  False  \n",
      "741        False  False  False  False  False  False       False   False  False  \n",
      "742        False  False  False  False  False  False       False   False  False  \n",
      "743        False  False  False  False  False  False       False   False  False  \n",
      "744        False  False  False  False  False  False       False   False  False  \n",
      "745         True  False  False  False  False  False       False   False  False  \n",
      "746        False  False  False  False  False  False       False   False   True  \n",
      "747        False  False  False  False  False   True       False   False  False  \n",
      "\n",
      "[748 rows x 19 columns]\n"
     ]
    }
   ],
   "source": [
    "negative_words = pd.read_csv('neg_sent.txt', delimiter= '\\t', header=None)\n",
    "# print(negative_words)\n",
    "\n",
    "# re.findall(r'\\w+(?:-\\w+)+', negative_words)\n",
    "# negative_words = negative_words.replace('-', ' ', inplace=False, regex=True)\n",
    "\n",
    "keywords = ['flat', 'lacks', 'vomit', 'bore', 'boring', 'horrible', 'predictable', 'unfortunately',\n",
    "            'embarrassing', 'stupid', 'lack', 'lacked', 'bland',\n",
    "            'insult', 'slow-moving', 'aimless', 'bad']\n",
    "\n",
    "# for words in negative_words:\n",
    "#     sentiment_raw[str(words)] = sentiment_raw.review.str.contains(\n",
    "#         str(words),\n",
    "#         case=False\n",
    "#     )\n",
    "    \n",
    "for key in keywords:\n",
    "    sentiment_raw[str(key)] = sentiment_raw.review.str.contains(\n",
    "        str(key),\n",
    "        case=False\n",
    "    )\n",
    "print(sentiment_raw)\n",
    "# print(negative_words)"
   ]
  },
  {
   "cell_type": "code",
   "execution_count": 4,
   "metadata": {
    "collapsed": true
   },
   "outputs": [],
   "source": [
    "sentiment_raw['negative'] = (sentiment_raw['review'] == '0')\n",
    "# Note that if you run this cell a second time everything will become false.\n",
    "# So... Don't."
   ]
  },
  {
   "cell_type": "code",
   "execution_count": 5,
   "metadata": {
    "collapsed": false
   },
   "outputs": [
    {
     "data": {
      "text/plain": [
       "<matplotlib.axes._subplots.AxesSubplot at 0x10c95a128>"
      ]
     },
     "execution_count": 5,
     "metadata": {},
     "output_type": "execute_result"
    },
    {
     "data": {
      "image/png": "[encoded data removed]",
      "text/plain": [
       "<matplotlib.figure.Figure at 0x10c890ac8>"
      ]
     },
     "metadata": {},
     "output_type": "display_data"
    }
   ],
   "source": [
    "sns.heatmap(sentiment_raw.corr())"
   ]
  },
  {
   "cell_type": "code",
   "execution_count": 6,
   "metadata": {
    "collapsed": false
   },
   "outputs": [],
   "source": [
    "data = sentiment_raw[keywords]\n",
    "target = sentiment_raw['negative']"
   ]
  },
  {
   "cell_type": "code",
   "execution_count": 7,
   "metadata": {
    "collapsed": false
   },
   "outputs": [
    {
     "name": "stdout",
     "output_type": "stream",
     "text": [
      "Number of mislabeled points out of a total 748 points : 0\n"
     ]
    },
    {
     "name": "stderr",
     "output_type": "stream",
     "text": [
      "/anaconda/lib/python3.6/site-packages/sklearn/naive_bayes.py:455: RuntimeWarning: divide by zero encountered in log\n",
      "  self.class_log_prior_ = (np.log(self.class_count_) -\n"
     ]
    }
   ],
   "source": [
    "# Our data is binary / boolean, so we're importing the Bernoulli classifier.\n",
    "from sklearn.naive_bayes import BernoulliNB\n",
    "\n",
    "# Instantiate our model and store it in a new variable.\n",
    "bnb = BernoulliNB()\n",
    "\n",
    "# Fit our model to the data.\n",
    "bnb.fit(data, target)\n",
    "\n",
    "# Classify, storing the result in a new variable.\n",
    "y_pred = bnb.predict(data)\n",
    "\n",
    "# Display our results.\n",
    "print(\"Number of mislabeled points out of a total {} points : {}\".format(\n",
    "    data.shape[0],\n",
    "    (target != y_pred).sum()\n",
    "))"
   ]
  }
 ],
 "metadata": {
  "kernelspec": {
   "display_name": "Python 3",
   "language": "python",
   "name": "python3"
  },
  "language_info": {
   "codemirror_mode": {
    "name": "ipython",
    "version": 3
   },
   "file_extension": ".py",
   "mimetype": "text/x-python",
   "name": "python",
   "nbconvert_exporter": "python",
   "pygments_lexer": "ipython3",
   "version": "3.6.0"
  }
 },
 "nbformat": 4,
 "nbformat_minor": 2
}
